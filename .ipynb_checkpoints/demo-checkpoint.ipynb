{
 "cells": [
  {
   "cell_type": "code",
   "execution_count": 1,
   "metadata": {},
   "outputs": [
    {
     "name": "stdout",
     "output_type": "stream",
     "text": [
      "{\"id\":\"This is id\",\"title\":\"This is input\",\"content\":[{\"sentence\":{\"origin\":\"Apple is looking at buying U.K. startup for $1 billion\",\"Tok\":[\"Apple\",\"is\",\"looking\",\"at\",\"buying\",\"U.K.\",\"startup\",\"for\",\"$\",\"1\",\"billion\"],\"Pos\":{\"Apple\":\"PROPN\",\"is\":\"AUX\",\"looking\":\"VERB\",\"at\":\"ADP\",\"buying\":\"VERB\",\"U.K.\":\"PROPN\",\"startup\":\"NOUN\",\"for\":\"ADP\",\"$\":\"SYM\",\"1\":\"NUM\",\"billion\":\"NUM\"},\"Tag\":{\"Apple\":\"NNP\",\"is\":\"VBZ\",\"looking\":\"VBG\",\"at\":\"IN\",\"buying\":\"VBG\",\"U.K.\":\"NNP\",\"startup\":\"NN\",\"for\":\"IN\",\"$\":\"$\",\"1\":\"CD\",\"billion\":\"CD\"},\"Ner\":{\"Apple\":\"ORG\",\"U.K.\":\"GPE\",\"$1 billion\":\"MONEY\"},\"Dep\":{\"Apple\":\"nsubj\",\"is\":\"aux\",\"looking\":\"ROOT\",\"at\":\"prep\",\"buying\":\"pcomp\",\"U.K.\":\"compound\",\"startup\":\"dobj\",\"for\":\"prep\",\"$\":\"quantmod\",\"1\":\"compound\",\"billion\":\"pobj\"}}}],\"metadata\":{}}\n"
     ]
    }
   ],
   "source": [
    "import requests\n",
    "import json\n",
    "\n",
    "# 更改ip\n",
    "url = 'http://140.114.77.150:8000/items'\n",
    "input_json = {\n",
    "    'id': 0,\n",
    "    'title': \"This is input\",\n",
    "    'content': [\n",
    "        {\n",
    "            \"sentence\":{\n",
    "                \"origin\": \"Apple is looking at buying U.K. startup for $1 billion\",\n",
    "            }\n",
    "        }\n",
    "    ],\n",
    "    \"pipline\":{\n",
    "        'Tok': 1 ,\n",
    "        'Pos': 1,\n",
    "        'Tag': 1,\n",
    "        'Ner': 1,\n",
    "        'Dep': 1\n",
    "        },\n",
    " \n",
    "    \"metadata\":{}\n",
    "}\n",
    "\n",
    "res = requests.post(url, data = json.dumps(input_json))\n",
    "print(res.text)"
   ]
  },
  {
   "cell_type": "code",
   "execution_count": null,
   "metadata": {},
   "outputs": [],
   "source": []
  }
 ],
 "metadata": {
  "kernelspec": {
   "display_name": "Python 3",
   "language": "python",
   "name": "python3"
  },
  "language_info": {
   "codemirror_mode": {
    "name": "ipython",
    "version": 3
   },
   "file_extension": ".py",
   "mimetype": "text/x-python",
   "name": "python",
   "nbconvert_exporter": "python",
   "pygments_lexer": "ipython3",
   "version": "3.8.2"
  }
 },
 "nbformat": 4,
 "nbformat_minor": 2
}
