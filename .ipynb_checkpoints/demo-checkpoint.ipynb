{
 "cells": [
  {
   "cell_type": "code",
   "execution_count": null,
   "metadata": {},
   "outputs": [],
   "source": [
    "import requests\n",
    "import json\n",
    "\n",
    "# 更改ip\n",
    "url = 'http://140.114.79.144:8000/items'\n",
    "input_json = {\n",
    "    'id': 0,\n",
    "    'title': \"This is input\",\n",
    "    'content': [\n",
    "        {\n",
    "            \"sentence\":{\n",
    "                \"origin\": \"Apple is looking at buying U.K. startup for $1 billion\",\n",
    "            }\n",
    "        }\n",
    "    ],\n",
    "    \"pipline\":{\n",
    "        'Tok': 1 ,\n",
    "        'Pos': 1,\n",
    "        'Tag': 1,\n",
    "        'Ner': 1,\n",
    "        'Dep': 1\n",
    "        },\n",
    " \n",
    "    \"metadata\":{}\n",
    "}\n",
    "\n",
    "res = requests.post(url, data = json.dumps(input_json))\n",
    "print(res.text)"
   ]
  }
 ],
 "metadata": {
  "kernelspec": {
   "display_name": "Python 3",
   "language": "python",
   "name": "python3"
  },
  "language_info": {
   "codemirror_mode": {
    "name": "ipython",
    "version": 3
   },
   "file_extension": ".py",
   "mimetype": "text/x-python",
   "name": "python",
   "nbconvert_exporter": "python",
   "pygments_lexer": "ipython3",
   "version": "3.7.4"
  }
 },
 "nbformat": 4,
 "nbformat_minor": 2
}
